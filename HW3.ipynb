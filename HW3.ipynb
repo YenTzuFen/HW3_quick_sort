{
  "nbformat": 4,
  "nbformat_minor": 0,
  "metadata": {
    "colab": {
      "provenance": []
    },
    "kernelspec": {
      "name": "python3",
      "display_name": "Python 3"
    },
    "language_info": {
      "name": "python"
    }
  },
  "cells": [
    {
      "cell_type": "code",
      "execution_count": 1,
      "metadata": {
        "colab": {
          "base_uri": "https://localhost:8080/"
        },
        "id": "xtvwB3INw7L1",
        "outputId": "c89cf547-b2dc-4782-da23-bd5795a6df9e"
      },
      "outputs": [
        {
          "output_type": "stream",
          "name": "stdout",
          "text": [
            "Initial array: [33, 67, 8, 13, 54, 119, 3, 84, 25, 41]\n",
            "Pivot: 33\n",
            "Left: [8, 13, 3, 25]\n",
            "Right: [67, 54, 119, 84, 41]\n",
            "  Pivot: 8\n",
            "  Left: [3]\n",
            "  Right: [13, 25]\n",
            "    Base case reached with: [3]\n",
            "    Pivot: 13\n",
            "    Left: []\n",
            "    Right: [25]\n",
            "      Base case reached with: []\n",
            "      Base case reached with: [25]\n",
            "  Pivot: 67\n",
            "  Left: [54, 41]\n",
            "  Right: [119, 84]\n",
            "    Pivot: 54\n",
            "    Left: [41]\n",
            "    Right: []\n",
            "      Base case reached with: [41]\n",
            "      Base case reached with: []\n",
            "    Pivot: 119\n",
            "    Left: [84]\n",
            "    Right: []\n",
            "      Base case reached with: [84]\n",
            "      Base case reached with: []\n",
            "\n",
            "Final sorted array: [3, 8, 13, 25, 33, 41, 54, 67, 84, 119]\n"
          ]
        }
      ],
      "source": [
        "def quick_sort(arr, depth=0):\n",
        "    indent = \"  \" * depth  # 用來視覺化遞迴層級\n",
        "    if len(arr) <= 1:\n",
        "        print(f\"{indent}Base case reached with: {arr}\")\n",
        "        return arr\n",
        "    else:\n",
        "        pivot = arr[0]\n",
        "        left = [x for x in arr[1:] if x <= pivot]\n",
        "        right = [x for x in arr[1:] if x > pivot]\n",
        "\n",
        "        print(f\"{indent}Pivot: {pivot}\")\n",
        "        print(f\"{indent}Left: {left}\")\n",
        "        print(f\"{indent}Right: {right}\")\n",
        "\n",
        "        return quick_sort(left, depth + 1) + [pivot] + quick_sort(right, depth + 1)\n",
        "\n",
        "# Demo array from the assignment\n",
        "demo_array = [33, 67, 8, 13, 54, 119, 3, 84, 25, 41]\n",
        "\n",
        "print(\"Initial array:\", demo_array)\n",
        "sorted_array = quick_sort(demo_array)\n",
        "print(\"\\nFinal sorted array:\", sorted_array)\n"
      ]
    }
  ]
}